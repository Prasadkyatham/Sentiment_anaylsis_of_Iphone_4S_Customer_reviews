{
 "cells": [
  {
   "cell_type": "markdown",
   "id": "162c8d04",
   "metadata": {
    "id": "162c8d04"
   },
   "source": [
    "# Importing the data "
   ]
  },
  {
   "cell_type": "code",
   "execution_count": null,
   "id": "8c028b95",
   "metadata": {
    "id": "8c028b95"
   },
   "outputs": [],
   "source": [
    "import pandas as pd\n",
    "import numpy as np\n",
    "import warnings\n",
    "warnings.filterwarnings('ignore')"
   ]
  },
  {
   "cell_type": "code",
   "execution_count": null,
   "id": "ed32e0ff",
   "metadata": {
    "id": "ed32e0ff",
    "outputId": "6997f332-be2a-44a7-c69f-ae039203d619"
   },
   "outputs": [
    {
     "data": {
      "text/html": [
       "<div>\n",
       "<style scoped>\n",
       "    .dataframe tbody tr th:only-of-type {\n",
       "        vertical-align: middle;\n",
       "    }\n",
       "\n",
       "    .dataframe tbody tr th {\n",
       "        vertical-align: top;\n",
       "    }\n",
       "\n",
       "    .dataframe thead th {\n",
       "        text-align: right;\n",
       "    }\n",
       "</style>\n",
       "<table border=\"1\" class=\"dataframe\">\n",
       "  <thead>\n",
       "    <tr style=\"text-align: right;\">\n",
       "      <th></th>\n",
       "      <th>Reviews</th>\n",
       "      <th>Lammatized</th>\n",
       "      <th>polarity</th>\n",
       "      <th>sentiment</th>\n",
       "    </tr>\n",
       "  </thead>\n",
       "  <tbody>\n",
       "    <tr>\n",
       "      <th>0</th>\n",
       "      <td>Impeccable quality standards</td>\n",
       "      <td>impeccable quality standard</td>\n",
       "      <td>0.375000</td>\n",
       "      <td>Positive</td>\n",
       "    </tr>\n",
       "    <tr>\n",
       "      <th>1</th>\n",
       "      <td>Very Good Product</td>\n",
       "      <td>good product</td>\n",
       "      <td>0.700000</td>\n",
       "      <td>Positive</td>\n",
       "    </tr>\n",
       "    <tr>\n",
       "      <th>2</th>\n",
       "      <td>touch is great, phone response time is superb ...</td>\n",
       "      <td>touch great phone response time superb due und...</td>\n",
       "      <td>0.558333</td>\n",
       "      <td>Positive</td>\n",
       "    </tr>\n",
       "    <tr>\n",
       "      <th>3</th>\n",
       "      <td>Buy, if your Budget is below 13K.</td>\n",
       "      <td>buy budget 13k</td>\n",
       "      <td>0.000000</td>\n",
       "      <td>Neutral</td>\n",
       "    </tr>\n",
       "    <tr>\n",
       "      <th>4</th>\n",
       "      <td>Poor performance</td>\n",
       "      <td>poor performance</td>\n",
       "      <td>-0.400000</td>\n",
       "      <td>Negative</td>\n",
       "    </tr>\n",
       "  </tbody>\n",
       "</table>\n",
       "</div>"
      ],
      "text/plain": [
       "                                             Reviews  \\\n",
       "0                       Impeccable quality standards   \n",
       "1                                  Very Good Product   \n",
       "2  touch is great, phone response time is superb ...   \n",
       "3                  Buy, if your Budget is below 13K.   \n",
       "4                                   Poor performance   \n",
       "\n",
       "                                          Lammatized  polarity sentiment  \n",
       "0                        impeccable quality standard  0.375000  Positive  \n",
       "1                                       good product  0.700000  Positive  \n",
       "2  touch great phone response time superb due und...  0.558333  Positive  \n",
       "3                                     buy budget 13k  0.000000   Neutral  \n",
       "4                                   poor performance -0.400000  Negative  "
      ]
     },
     "execution_count": 2,
     "metadata": {},
     "output_type": "execute_result"
    }
   ],
   "source": [
    "data = pd.read_csv('D:\\\\Final_data.csv')\n",
    "data.head()"
   ]
  },
  {
   "cell_type": "markdown",
   "id": "a5b4db97",
   "metadata": {
    "id": "a5b4db97"
   },
   "source": [
    "# Converting our sentiments in numerical form using LabelEncoder"
   ]
  },
  {
   "cell_type": "code",
   "execution_count": null,
   "id": "af6b2590",
   "metadata": {
    "id": "af6b2590"
   },
   "outputs": [],
   "source": [
    "from sklearn.preprocessing import LabelEncoder"
   ]
  },
  {
   "cell_type": "code",
   "execution_count": null,
   "id": "6a6d442f",
   "metadata": {
    "id": "6a6d442f"
   },
   "outputs": [],
   "source": [
    "labelencoder = LabelEncoder()\n",
    "data['sentiment_label'] = labelencoder.fit_transform(data['sentiment'])"
   ]
  },
  {
   "cell_type": "code",
   "execution_count": null,
   "id": "c9c69f46",
   "metadata": {
    "id": "c9c69f46",
    "outputId": "e3d0ca2a-257c-416e-ec64-63dd2fa9f179"
   },
   "outputs": [
    {
     "data": {
      "text/html": [
       "<div>\n",
       "<style scoped>\n",
       "    .dataframe tbody tr th:only-of-type {\n",
       "        vertical-align: middle;\n",
       "    }\n",
       "\n",
       "    .dataframe tbody tr th {\n",
       "        vertical-align: top;\n",
       "    }\n",
       "\n",
       "    .dataframe thead th {\n",
       "        text-align: right;\n",
       "    }\n",
       "</style>\n",
       "<table border=\"1\" class=\"dataframe\">\n",
       "  <thead>\n",
       "    <tr style=\"text-align: right;\">\n",
       "      <th></th>\n",
       "      <th>Reviews</th>\n",
       "      <th>Lammatized</th>\n",
       "      <th>polarity</th>\n",
       "      <th>sentiment</th>\n",
       "      <th>sentiment_label</th>\n",
       "    </tr>\n",
       "  </thead>\n",
       "  <tbody>\n",
       "    <tr>\n",
       "      <th>0</th>\n",
       "      <td>Impeccable quality standards</td>\n",
       "      <td>impeccable quality standard</td>\n",
       "      <td>0.375000</td>\n",
       "      <td>Positive</td>\n",
       "      <td>2</td>\n",
       "    </tr>\n",
       "    <tr>\n",
       "      <th>1</th>\n",
       "      <td>Very Good Product</td>\n",
       "      <td>good product</td>\n",
       "      <td>0.700000</td>\n",
       "      <td>Positive</td>\n",
       "      <td>2</td>\n",
       "    </tr>\n",
       "    <tr>\n",
       "      <th>2</th>\n",
       "      <td>touch is great, phone response time is superb ...</td>\n",
       "      <td>touch great phone response time superb due und...</td>\n",
       "      <td>0.558333</td>\n",
       "      <td>Positive</td>\n",
       "      <td>2</td>\n",
       "    </tr>\n",
       "    <tr>\n",
       "      <th>3</th>\n",
       "      <td>Buy, if your Budget is below 13K.</td>\n",
       "      <td>buy budget 13k</td>\n",
       "      <td>0.000000</td>\n",
       "      <td>Neutral</td>\n",
       "      <td>1</td>\n",
       "    </tr>\n",
       "    <tr>\n",
       "      <th>4</th>\n",
       "      <td>Poor performance</td>\n",
       "      <td>poor performance</td>\n",
       "      <td>-0.400000</td>\n",
       "      <td>Negative</td>\n",
       "      <td>0</td>\n",
       "    </tr>\n",
       "  </tbody>\n",
       "</table>\n",
       "</div>"
      ],
      "text/plain": [
       "                                             Reviews  \\\n",
       "0                       Impeccable quality standards   \n",
       "1                                  Very Good Product   \n",
       "2  touch is great, phone response time is superb ...   \n",
       "3                  Buy, if your Budget is below 13K.   \n",
       "4                                   Poor performance   \n",
       "\n",
       "                                          Lammatized  polarity sentiment  \\\n",
       "0                        impeccable quality standard  0.375000  Positive   \n",
       "1                                       good product  0.700000  Positive   \n",
       "2  touch great phone response time superb due und...  0.558333  Positive   \n",
       "3                                     buy budget 13k  0.000000   Neutral   \n",
       "4                                   poor performance -0.400000  Negative   \n",
       "\n",
       "   sentiment_label  \n",
       "0                2  \n",
       "1                2  \n",
       "2                2  \n",
       "3                1  \n",
       "4                0  "
      ]
     },
     "execution_count": 5,
     "metadata": {},
     "output_type": "execute_result"
    }
   ],
   "source": [
    "data.head()"
   ]
  },
  {
   "cell_type": "code",
   "execution_count": null,
   "id": "4aeb5e98",
   "metadata": {
    "id": "4aeb5e98"
   },
   "outputs": [],
   "source": [
    "# Negative = 0\n",
    "# Neutral = 1\n",
    "# Positive = 2"
   ]
  },
  {
   "cell_type": "markdown",
   "id": "c5ac5b1e",
   "metadata": {
    "id": "c5ac5b1e"
   },
   "source": [
    "# Spliting the Data into X &Y "
   ]
  },
  {
   "cell_type": "code",
   "execution_count": null,
   "id": "f328ef63",
   "metadata": {
    "id": "f328ef63"
   },
   "outputs": [],
   "source": [
    "from sklearn.feature_extraction.text import CountVectorizer"
   ]
  },
  {
   "cell_type": "code",
   "execution_count": null,
   "id": "fd9bec81",
   "metadata": {
    "id": "fd9bec81"
   },
   "outputs": [],
   "source": [
    "bow_vectorizer = CountVectorizer()\n",
    "bow = bow_vectorizer.fit_transform(data['Lammatized'].apply(lambda x: np.str_(x)))"
   ]
  },
  {
   "cell_type": "code",
   "execution_count": null,
   "id": "3f154260",
   "metadata": {
    "id": "3f154260"
   },
   "outputs": [],
   "source": [
    "from sklearn.model_selection import train_test_split"
   ]
  },
  {
   "cell_type": "code",
   "execution_count": null,
   "id": "ff36f65d",
   "metadata": {
    "id": "ff36f65d"
   },
   "outputs": [],
   "source": [
    "x = bow.toarray()\n",
    "y = data['sentiment_label']"
   ]
  },
  {
   "cell_type": "code",
   "execution_count": null,
   "id": "74318cde",
   "metadata": {
    "id": "74318cde"
   },
   "outputs": [],
   "source": [
    "x_train,x_test,y_train,y_test = train_test_split(x,y,test_size=0.25,random_state=42)"
   ]
  },
  {
   "cell_type": "markdown",
   "id": "87d7fad3",
   "metadata": {
    "id": "87d7fad3"
   },
   "source": [
    "# Model Building"
   ]
  },
  {
   "cell_type": "markdown",
   "id": "287cd9b2",
   "metadata": {
    "id": "287cd9b2"
   },
   "source": [
    "## 1. Logistic Regression"
   ]
  },
  {
   "cell_type": "code",
   "execution_count": null,
   "id": "53b25a76",
   "metadata": {
    "id": "53b25a76"
   },
   "outputs": [],
   "source": [
    "from sklearn.linear_model import LogisticRegression\n",
    "from sklearn.metrics import classification_report,confusion_matrix,accuracy_score"
   ]
  },
  {
   "cell_type": "code",
   "execution_count": null,
   "id": "9942acc7",
   "metadata": {
    "id": "9942acc7",
    "outputId": "b4cef2f0-0c22-41cf-9209-691c147684ad"
   },
   "outputs": [
    {
     "name": "stdout",
     "output_type": "stream",
     "text": [
      "*************Testing Accuracy*************\n",
      "confusion_matrix \n",
      " [[ 314   57  108]\n",
      " [  14  633   47]\n",
      " [  36   70 2691]]\n",
      "*********************************************\n",
      "classification_report \n",
      "               precision    recall  f1-score   support\n",
      "\n",
      "           0       0.86      0.66      0.74       479\n",
      "           1       0.83      0.91      0.87       694\n",
      "           2       0.95      0.96      0.95      2797\n",
      "\n",
      "    accuracy                           0.92      3970\n",
      "   macro avg       0.88      0.84      0.86      3970\n",
      "weighted avg       0.92      0.92      0.91      3970\n",
      "\n",
      "*********************************************\n",
      "Accuracy score \n",
      " 0.9163727959697733\n"
     ]
    }
   ],
   "source": [
    "model_1=LogisticRegression()\n",
    "\n",
    "# Trainning\n",
    "model_1.fit(x_train,y_train)\n",
    "# Testing\n",
    "y_pred_test_lr=model_1.predict(x_test)\n",
    "\n",
    "print('*************Testing Accuracy*************')\n",
    "print('confusion_matrix \\n',confusion_matrix(y_test,y_pred_test_lr))\n",
    "print('*********************************************')\n",
    "print('classification_report \\n',classification_report(y_test,y_pred_test_lr))\n",
    "print('*********************************************')\n",
    "print(\"Accuracy score \\n\",accuracy_score(y_test,y_pred_test_lr))"
   ]
  },
  {
   "cell_type": "code",
   "execution_count": null,
   "id": "0e035f95",
   "metadata": {
    "id": "0e035f95",
    "outputId": "8458376b-5ed5-438e-88be-11a3ac11f220"
   },
   "outputs": [
    {
     "name": "stdout",
     "output_type": "stream",
     "text": [
      "*************Training Accuracy*************\n",
      "confusion_matrix \n",
      " [[1389   25   16]\n",
      " [   0 1882   18]\n",
      " [   1   21 8558]]\n",
      "*********************************************\n",
      "classification_report \n",
      "               precision    recall  f1-score   support\n",
      "\n",
      "           0       1.00      0.97      0.99      1430\n",
      "           1       0.98      0.99      0.98      1900\n",
      "           2       1.00      1.00      1.00      8580\n",
      "\n",
      "    accuracy                           0.99     11910\n",
      "   macro avg       0.99      0.99      0.99     11910\n",
      "weighted avg       0.99      0.99      0.99     11910\n",
      "\n",
      "*********************************************\n",
      "Accuracy score \n",
      " 0.993198992443325\n"
     ]
    }
   ],
   "source": [
    "# Training accuracy\n",
    "y_pred_train_lr = model_1.predict(x_train)\n",
    "\n",
    "print('*************Training Accuracy*************')\n",
    "print('confusion_matrix \\n',confusion_matrix(y_train,y_pred_train_lr))\n",
    "print('*********************************************')\n",
    "print('classification_report \\n',classification_report(y_train,y_pred_train_lr))\n",
    "print('*********************************************')\n",
    "print(\"Accuracy score \\n\",accuracy_score(y_train,y_pred_train_lr))"
   ]
  },
  {
   "cell_type": "markdown",
   "id": "c1ecde6f",
   "metadata": {
    "id": "c1ecde6f"
   },
   "source": [
    "## 2. Linear support vector classifier"
   ]
  },
  {
   "cell_type": "code",
   "execution_count": null,
   "id": "a21e0d10",
   "metadata": {
    "id": "a21e0d10"
   },
   "outputs": [],
   "source": [
    "from sklearn.svm import LinearSVC"
   ]
  },
  {
   "cell_type": "code",
   "execution_count": null,
   "id": "cc1d5a62",
   "metadata": {
    "id": "cc1d5a62",
    "outputId": "c2ad9e14-d937-45bf-c4be-ad559f98b1b9"
   },
   "outputs": [
    {
     "name": "stdout",
     "output_type": "stream",
     "text": [
      "*************Testing Accuracy*************\n",
      "confusion_matrix \n",
      " [[ 342   43   94]\n",
      " [  24  641   29]\n",
      " [  35   62 2700]]\n",
      "*********************************************\n",
      "classification_report \n",
      "               precision    recall  f1-score   support\n",
      "\n",
      "           0       0.85      0.71      0.78       479\n",
      "           1       0.86      0.92      0.89       694\n",
      "           2       0.96      0.97      0.96      2797\n",
      "\n",
      "    accuracy                           0.93      3970\n",
      "   macro avg       0.89      0.87      0.88      3970\n",
      "weighted avg       0.93      0.93      0.93      3970\n",
      "\n",
      "*********************************************\n",
      "Accuracy score \n",
      " 0.9277078085642317\n"
     ]
    }
   ],
   "source": [
    "model_2 = LinearSVC(verbose=0)\n",
    "\n",
    "# Trainning\n",
    "model_2.fit(x_train,y_train)\n",
    "# Testing\n",
    "y_pred_test_lsvc = model_2.predict(x_test)\n",
    "\n",
    "print('*************Testing Accuracy*************')\n",
    "print('confusion_matrix \\n',confusion_matrix(y_test,y_pred_test_lsvc))\n",
    "print('*********************************************')\n",
    "print('classification_report \\n',classification_report(y_test,y_pred_test_lsvc))\n",
    "print('*********************************************')\n",
    "print(\"Accuracy score \\n\",accuracy_score(y_test,y_pred_test_lsvc))"
   ]
  },
  {
   "cell_type": "code",
   "execution_count": null,
   "id": "5eb4f1a2",
   "metadata": {
    "id": "5eb4f1a2",
    "outputId": "5f71b5f3-908b-492f-81e6-1c7f4340aff6"
   },
   "outputs": [
    {
     "name": "stdout",
     "output_type": "stream",
     "text": [
      "*************Training Accuracy*************\n",
      "confusion_matrix \n",
      " [[1430    0    0]\n",
      " [   0 1899    1]\n",
      " [   0    0 8580]]\n",
      "*********************************************\n",
      "classification_report \n",
      "               precision    recall  f1-score   support\n",
      "\n",
      "           0       1.00      1.00      1.00      1430\n",
      "           1       1.00      1.00      1.00      1900\n",
      "           2       1.00      1.00      1.00      8580\n",
      "\n",
      "    accuracy                           1.00     11910\n",
      "   macro avg       1.00      1.00      1.00     11910\n",
      "weighted avg       1.00      1.00      1.00     11910\n",
      "\n",
      "*********************************************\n",
      "Accuracy score \n",
      " 0.9999160369437448\n"
     ]
    }
   ],
   "source": [
    "# Training accuracy\n",
    "y_pred_train_lsvc = model_2.predict(x_train)\n",
    "\n",
    "print('*************Training Accuracy*************')\n",
    "print('confusion_matrix \\n',confusion_matrix(y_train,y_pred_train_lsvc))\n",
    "print('*********************************************')\n",
    "print('classification_report \\n',classification_report(y_train,y_pred_train_lsvc))\n",
    "print('*********************************************')\n",
    "print(\"Accuracy score \\n\",accuracy_score(y_train,y_pred_train_lsvc))"
   ]
  },
  {
   "cell_type": "markdown",
   "id": "365eceb6",
   "metadata": {
    "id": "365eceb6"
   },
   "source": [
    "## 3. Decision tree classifier"
   ]
  },
  {
   "cell_type": "code",
   "execution_count": null,
   "id": "eb95a533",
   "metadata": {
    "id": "eb95a533"
   },
   "outputs": [],
   "source": [
    "from sklearn.tree import DecisionTreeClassifier"
   ]
  },
  {
   "cell_type": "code",
   "execution_count": null,
   "id": "0672a24d",
   "metadata": {
    "id": "0672a24d",
    "outputId": "61199bea-fb1c-4c3e-858e-ed815eb8251d"
   },
   "outputs": [
    {
     "name": "stdout",
     "output_type": "stream",
     "text": [
      "*************Testing Accuracy*************\n",
      "confusion_matrix \n",
      " [[ 264   48  167]\n",
      " [  30  621   43]\n",
      " [ 131   73 2593]]\n",
      "*********************************************\n",
      "classification_report \n",
      "               precision    recall  f1-score   support\n",
      "\n",
      "           0       0.62      0.55      0.58       479\n",
      "           1       0.84      0.89      0.86       694\n",
      "           2       0.93      0.93      0.93      2797\n",
      "\n",
      "    accuracy                           0.88      3970\n",
      "   macro avg       0.79      0.79      0.79      3970\n",
      "weighted avg       0.87      0.88      0.87      3970\n",
      "\n",
      "*********************************************\n",
      "Accuracy score \n",
      " 0.8760705289672545\n"
     ]
    }
   ],
   "source": [
    "model_3 = DecisionTreeClassifier(criterion = 'entropy')\n",
    "\n",
    "# Trainning\n",
    "model_3.fit(x_train,y_train)\n",
    "# Testing\n",
    "y_pred_test_dtc = model_3.predict(x_test)\n",
    "\n",
    "print('*************Testing Accuracy*************')\n",
    "print('confusion_matrix \\n',confusion_matrix(y_test,y_pred_test_dtc))\n",
    "print('*********************************************')\n",
    "print('classification_report \\n',classification_report(y_test,y_pred_test_dtc))\n",
    "print('*********************************************')\n",
    "print(\"Accuracy score \\n\",accuracy_score(y_test,y_pred_test_dtc))"
   ]
  },
  {
   "cell_type": "code",
   "execution_count": null,
   "id": "ddcde81c",
   "metadata": {
    "id": "ddcde81c",
    "outputId": "3d1289b9-0807-4784-b8e7-154765f96bcd"
   },
   "outputs": [
    {
     "name": "stdout",
     "output_type": "stream",
     "text": [
      "*************Training Accuracy*************\n",
      "confusion_matrix \n",
      " [[1430    0    0]\n",
      " [   0 1900    0]\n",
      " [   0    0 8580]]\n",
      "*********************************************\n",
      "classification_report \n",
      "               precision    recall  f1-score   support\n",
      "\n",
      "           0       1.00      1.00      1.00      1430\n",
      "           1       1.00      1.00      1.00      1900\n",
      "           2       1.00      1.00      1.00      8580\n",
      "\n",
      "    accuracy                           1.00     11910\n",
      "   macro avg       1.00      1.00      1.00     11910\n",
      "weighted avg       1.00      1.00      1.00     11910\n",
      "\n",
      "*********************************************\n",
      "Accuracy score \n",
      " 1.0\n"
     ]
    }
   ],
   "source": [
    "# Training accuracy\n",
    "y_pred_train_dtc = model_3.predict(x_train)           \n",
    "\n",
    "print('*************Training Accuracy*************')\n",
    "print('confusion_matrix \\n',confusion_matrix(y_train,y_pred_train_dtc))\n",
    "print('*********************************************')\n",
    "print('classification_report \\n',classification_report(y_train,y_pred_train_dtc))\n",
    "print('*********************************************')\n",
    "print(\"Accuracy score \\n\",accuracy_score(y_train,y_pred_train_dtc))"
   ]
  },
  {
   "cell_type": "markdown",
   "id": "fMmN92Mwm6Dj",
   "metadata": {
    "id": "fMmN92Mwm6Dj"
   },
   "source": [
    "# 4.Random Forest"
   ]
  },
  {
   "cell_type": "code",
   "execution_count": null,
   "id": "54pSmW6Qm6Dk",
   "metadata": {
    "id": "54pSmW6Qm6Dk"
   },
   "outputs": [],
   "source": [
    "from sklearn.ensemble import RandomForestClassifier"
   ]
  },
  {
   "cell_type": "code",
   "execution_count": null,
   "id": "3uaePedtm6Dk",
   "metadata": {
    "id": "3uaePedtm6Dk",
    "outputId": "2bee2617-0961-4e67-b73c-4d0ee2b2d9e7"
   },
   "outputs": [
    {
     "name": "stdout",
     "output_type": "stream",
     "text": [
      "*************Testing Accuracy*************\n",
      "confusion_matrix \n",
      " [[ 124   50  305]\n",
      " [   1  557  136]\n",
      " [   7   71 2719]]\n",
      "*********************************************\n",
      "classification_report \n",
      "               precision    recall  f1-score   support\n",
      "\n",
      "           0       0.94      0.26      0.41       479\n",
      "           1       0.82      0.80      0.81       694\n",
      "           2       0.86      0.97      0.91      2797\n",
      "\n",
      "    accuracy                           0.86      3970\n",
      "   macro avg       0.87      0.68      0.71      3970\n",
      "weighted avg       0.86      0.86      0.83      3970\n",
      "\n",
      "*********************************************\n",
      "Accuracy score \n",
      " 0.8564231738035264\n"
     ]
    }
   ],
   "source": [
    "model_4 = RandomForestClassifier()\n",
    "\n",
    "# Trainning\n",
    "model_4.fit(x_train,y_train)\n",
    "# Testing\n",
    "y_pred_test_rfc = model_4.predict(x_test)\n",
    "\n",
    "print('*************Testing Accuracy*************')\n",
    "print('confusion_matrix \\n',confusion_matrix(y_test,y_pred_test_rfc))\n",
    "print('*********************************************')\n",
    "print('classification_report \\n',classification_report(y_test,y_pred_test_rfc))\n",
    "print('*********************************************')\n",
    "print(\"Accuracy score \\n\",accuracy_score(y_test,y_pred_test_rfc))"
   ]
  },
  {
   "cell_type": "code",
   "execution_count": null,
   "id": "kYdeeIdcm6Dm",
   "metadata": {
    "id": "kYdeeIdcm6Dm",
    "outputId": "07501107-7b45-4048-9563-554231553e69"
   },
   "outputs": [
    {
     "name": "stdout",
     "output_type": "stream",
     "text": [
      "*************Training Accuracy*************\n",
      "confusion_matrix \n",
      " [[1430    0    0]\n",
      " [   0 1900    0]\n",
      " [   0    0 8580]]\n",
      "*********************************************\n",
      "classification_report \n",
      "               precision    recall  f1-score   support\n",
      "\n",
      "           0       1.00      1.00      1.00      1430\n",
      "           1       1.00      1.00      1.00      1900\n",
      "           2       1.00      1.00      1.00      8580\n",
      "\n",
      "    accuracy                           1.00     11910\n",
      "   macro avg       1.00      1.00      1.00     11910\n",
      "weighted avg       1.00      1.00      1.00     11910\n",
      "\n",
      "*********************************************\n",
      "Accuracy score \n",
      " 1.0\n"
     ]
    }
   ],
   "source": [
    "# Training accuracy\n",
    "y_pred_train_rfc = model_4.predict(x_train)           \n",
    "\n",
    "print('*************Training Accuracy*************')\n",
    "print('confusion_matrix \\n',confusion_matrix(y_train,y_pred_train_rfc))\n",
    "print('*********************************************')\n",
    "print('classification_report \\n',classification_report(y_train,y_pred_train_rfc))\n",
    "print('*********************************************')\n",
    "print(\"Accuracy score \\n\",accuracy_score(y_train,y_pred_train_rfc))"
   ]
  },
  {
   "cell_type": "markdown",
   "id": "61ce5a0f",
   "metadata": {
    "id": "61ce5a0f"
   },
   "source": [
    "## 5. KNN"
   ]
  },
  {
   "cell_type": "code",
   "execution_count": null,
   "id": "cRrSabe2m6Dn",
   "metadata": {
    "id": "cRrSabe2m6Dn"
   },
   "outputs": [],
   "source": [
    "from sklearn.feature_extraction.text import CountVectorizer\n",
    "from sklearn.feature_extraction.text import TfidfTransformer\n",
    "from sklearn.neighbors import KNeighborsClassifier"
   ]
  },
  {
   "cell_type": "code",
   "execution_count": null,
   "id": "-1R69ABAm6Dn",
   "metadata": {
    "id": "-1R69ABAm6Dn",
    "outputId": "1b61ad12-cb1a-4ebc-c895-d483251f718b"
   },
   "outputs": [
    {
     "name": "stdout",
     "output_type": "stream",
     "text": [
      "*************Testing Accuracy*************\n",
      "confusion_matrix \n",
      " [[  94  259  126]\n",
      " [   4  635   55]\n",
      " [  79  649 2069]]\n",
      "*********************************************\n",
      "classification_report \n",
      "               precision    recall  f1-score   support\n",
      "\n",
      "           0       0.53      0.20      0.29       479\n",
      "           1       0.41      0.91      0.57       694\n",
      "           2       0.92      0.74      0.82      2797\n",
      "\n",
      "    accuracy                           0.70      3970\n",
      "   macro avg       0.62      0.62      0.56      3970\n",
      "weighted avg       0.78      0.70      0.71      3970\n",
      "\n",
      "*********************************************\n",
      "Accuracy score \n",
      " 0.7047858942065491\n"
     ]
    }
   ],
   "source": [
    "model_5 = KNeighborsClassifier(n_neighbors = 3)\n",
    "\n",
    "# Trainning\n",
    "model_5.fit(x_train,y_train)\n",
    "# Testing\n",
    "y_pred_test_knn = model_5.predict(x_test)\n",
    "\n",
    "print('*************Testing Accuracy*************')\n",
    "print('confusion_matrix \\n',confusion_matrix(y_test,y_pred_test_knn))\n",
    "print('*********************************************')\n",
    "print('classification_report \\n',classification_report(y_test,y_pred_test_knn))\n",
    "print('*********************************************')\n",
    "print(\"Accuracy score \\n\",accuracy_score(y_test,y_pred_test_knn))"
   ]
  },
  {
   "cell_type": "code",
   "execution_count": null,
   "id": "PB2clHaGm6Do",
   "metadata": {
    "id": "PB2clHaGm6Do",
    "outputId": "bf8171f1-9b13-4c3d-b912-374a89b0c412"
   },
   "outputs": [
    {
     "name": "stdout",
     "output_type": "stream",
     "text": [
      "*************Training Accuracy*************\n",
      "confusion_matrix \n",
      " [[ 754  469  207]\n",
      " [  18 1800   82]\n",
      " [ 185 1131 7264]]\n",
      "*********************************************\n",
      "classification_report \n",
      "               precision    recall  f1-score   support\n",
      "\n",
      "           0       0.79      0.53      0.63      1430\n",
      "           1       0.53      0.95      0.68      1900\n",
      "           2       0.96      0.85      0.90      8580\n",
      "\n",
      "    accuracy                           0.82     11910\n",
      "   macro avg       0.76      0.77      0.74     11910\n",
      "weighted avg       0.87      0.82      0.83     11910\n",
      "\n",
      "*********************************************\n",
      "Accuracy score \n",
      " 0.8243492863140218\n"
     ]
    }
   ],
   "source": [
    "# Training accuracy\n",
    "y_pred_train_knn = model_5.predict(x_train)           \n",
    "\n",
    "print('*************Training Accuracy*************')\n",
    "print('confusion_matrix \\n',confusion_matrix(y_train,y_pred_train_knn))\n",
    "print('*********************************************')\n",
    "print('classification_report \\n',classification_report(y_train,y_pred_train_knn))\n",
    "print('*********************************************')\n",
    "print(\"Accuracy score \\n\",accuracy_score(y_train,y_pred_train_knn))"
   ]
  },
  {
   "cell_type": "markdown",
   "id": "20aa610c",
   "metadata": {
    "id": "20aa610c"
   },
   "source": [
    "## Accuracy comparision"
   ]
  },
  {
   "cell_type": "code",
   "execution_count": null,
   "id": "46d4a014",
   "metadata": {
    "id": "46d4a014"
   },
   "outputs": [],
   "source": [
    "model = ['Logistic Regression','Linear SVC','Decision Tree','Random Forest','KNN']\n",
    "\n",
    "training = [\n",
    "    (accuracy_score(y_train,y_pred_train_lr)*100),\n",
    "    (accuracy_score(y_train,y_pred_train_lsvc)*100),\n",
    "    (accuracy_score(y_train,y_pred_train_dtc)*100),\n",
    "    (accuracy_score(y_train,y_pred_train_rfc)*100),\n",
    "    (accuracy_score(y_train,y_pred_train_knn)*100)\n",
    "]\n",
    "\n",
    "testing = [\n",
    "    (accuracy_score(y_test,y_pred_test_lr)*100),\n",
    "    (accuracy_score(y_test,y_pred_test_lsvc)*100),\n",
    "    (accuracy_score(y_test,y_pred_test_dtc)*100),\n",
    "    (accuracy_score(y_test,y_pred_test_rfc)*100),\n",
    "    (accuracy_score(y_test,y_pred_test_knn)*100),    \n",
    "]"
   ]
  },
  {
   "cell_type": "code",
   "execution_count": null,
   "id": "6b447601",
   "metadata": {
    "id": "6b447601",
    "outputId": "59fc32d7-1fbc-436d-c132-ac8aa5236d31"
   },
   "outputs": [
    {
     "data": {
      "text/html": [
       "<div>\n",
       "<style scoped>\n",
       "    .dataframe tbody tr th:only-of-type {\n",
       "        vertical-align: middle;\n",
       "    }\n",
       "\n",
       "    .dataframe tbody tr th {\n",
       "        vertical-align: top;\n",
       "    }\n",
       "\n",
       "    .dataframe thead th {\n",
       "        text-align: right;\n",
       "    }\n",
       "</style>\n",
       "<table border=\"1\" class=\"dataframe\">\n",
       "  <thead>\n",
       "    <tr style=\"text-align: right;\">\n",
       "      <th></th>\n",
       "      <th>Model</th>\n",
       "      <th>Training</th>\n",
       "      <th>Testing</th>\n",
       "    </tr>\n",
       "  </thead>\n",
       "  <tbody>\n",
       "    <tr>\n",
       "      <th>0</th>\n",
       "      <td>Logistic Regression</td>\n",
       "      <td>99.319899</td>\n",
       "      <td>91.637280</td>\n",
       "    </tr>\n",
       "    <tr>\n",
       "      <th>1</th>\n",
       "      <td>Linear SVC</td>\n",
       "      <td>99.991604</td>\n",
       "      <td>92.770781</td>\n",
       "    </tr>\n",
       "    <tr>\n",
       "      <th>2</th>\n",
       "      <td>Decision Tree</td>\n",
       "      <td>100.000000</td>\n",
       "      <td>87.607053</td>\n",
       "    </tr>\n",
       "    <tr>\n",
       "      <th>3</th>\n",
       "      <td>Random Forest</td>\n",
       "      <td>100.000000</td>\n",
       "      <td>85.642317</td>\n",
       "    </tr>\n",
       "    <tr>\n",
       "      <th>4</th>\n",
       "      <td>KNN</td>\n",
       "      <td>82.434929</td>\n",
       "      <td>70.478589</td>\n",
       "    </tr>\n",
       "  </tbody>\n",
       "</table>\n",
       "</div>"
      ],
      "text/plain": [
       "                 Model    Training    Testing\n",
       "0  Logistic Regression   99.319899  91.637280\n",
       "1           Linear SVC   99.991604  92.770781\n",
       "2        Decision Tree  100.000000  87.607053\n",
       "3        Random Forest  100.000000  85.642317\n",
       "4                  KNN   82.434929  70.478589"
      ]
     },
     "execution_count": 28,
     "metadata": {},
     "output_type": "execute_result"
    }
   ],
   "source": [
    "df = pd.DataFrame()\n",
    "df['Model'] = model\n",
    "df['Training'] = training\n",
    "df['Testing'] = testing\n",
    "df"
   ]
  },
  {
   "cell_type": "markdown",
   "id": "1e69efd3",
   "metadata": {
    "id": "1e69efd3"
   },
   "source": [
    "### Here Linear SVC model is performing Better than any other model,so we use Linear SVC."
   ]
  },
  {
   "cell_type": "markdown",
   "id": "6c27906e",
   "metadata": {
    "id": "6c27906e"
   },
   "source": [
    "# Create the pickle file."
   ]
  },
  {
   "cell_type": "code",
   "execution_count": null,
   "id": "af91cead",
   "metadata": {
    "id": "af91cead"
   },
   "outputs": [],
   "source": [
    "import pickle\n",
    "from sklearn.pipeline import Pipeline"
   ]
  },
  {
   "cell_type": "code",
   "execution_count": null,
   "id": "4d0e81ad",
   "metadata": {
    "id": "4d0e81ad"
   },
   "outputs": [],
   "source": [
    "pipeline = Pipeline([('CountVectorizer',bow_vectorizer),('clf',model_2)])"
   ]
  },
  {
   "cell_type": "code",
   "execution_count": null,
   "id": "336c7122",
   "metadata": {
    "id": "336c7122"
   },
   "outputs": [],
   "source": [
    "file_name = 'final_model_1.pkl'\n",
    "pickle.dump(pipeline,open(file_name,'wb'))"
   ]
  },
  {
   "cell_type": "markdown",
   "id": "b11bd25d",
   "metadata": {
    "id": "b11bd25d"
   },
   "source": [
    "### Top five most negative reviews"
   ]
  },
  {
   "cell_type": "code",
   "execution_count": null,
   "id": "a7db79c6",
   "metadata": {
    "id": "a7db79c6"
   },
   "outputs": [],
   "source": [
    "pd.options.display.max_colwidth = 100"
   ]
  },
  {
   "cell_type": "code",
   "execution_count": null,
   "id": "11fe78a1",
   "metadata": {
    "id": "11fe78a1",
    "outputId": "c6e6c9e0-0005-4585-9452-b75948bd3bcb"
   },
   "outputs": [
    {
     "data": {
      "text/plain": [
       "8342    -1.0\n",
       "7776    -1.0\n",
       "1153    -1.0\n",
       "514     -1.0\n",
       "14647   -1.0\n",
       "        ... \n",
       "1709     1.0\n",
       "15343    1.0\n",
       "682      1.0\n",
       "606      1.0\n",
       "3401     1.0\n",
       "Name: polarity, Length: 15880, dtype: float64"
      ]
     },
     "execution_count": 33,
     "metadata": {},
     "output_type": "execute_result"
    }
   ],
   "source": [
    "data['polarity'].sort_values(ascending=True)"
   ]
  },
  {
   "cell_type": "code",
   "execution_count": null,
   "id": "662b9d8a",
   "metadata": {
    "id": "662b9d8a",
    "outputId": "679e7df7-84de-4e05-b0c4-9c8516b86b23"
   },
   "outputs": [
    {
     "data": {
      "text/plain": [
       "14589                                                             Good product and amazing service by Amazon\n",
       "6765                                                                                           It just cool.\n",
       "7308     Anonymous, 01 Nov 2015\\nhello moto 3 gen is having auto reboot issue meanwhile iphone is always ...\n",
       "1462     Amazon india has successfully delivered a used product. The phone was activated on 9th april but...\n",
       "10383    Terrible phone. It freezes a lot, very slow. I use this phone with Straight Talk. When you use a...\n",
       "Name: Reviews, dtype: object"
      ]
     },
     "execution_count": 34,
     "metadata": {},
     "output_type": "execute_result"
    }
   ],
   "source": [
    "data['Reviews'].iloc[[14589,6765,7308,1462,10383]]"
   ]
  },
  {
   "cell_type": "markdown",
   "id": "15a3b991",
   "metadata": {
    "id": "15a3b991"
   },
   "source": [
    "### Top five most positive reviews"
   ]
  },
  {
   "cell_type": "code",
   "execution_count": null,
   "id": "19f0a6c0",
   "metadata": {
    "id": "19f0a6c0",
    "outputId": "aa87d937-f0ac-4e8d-bb0e-a0323e55d753"
   },
   "outputs": [
    {
     "data": {
      "text/plain": [
       "2714     1.0\n",
       "3457     1.0\n",
       "2164     1.0\n",
       "2169     1.0\n",
       "2170     1.0\n",
       "        ... \n",
       "4890    -1.0\n",
       "7776    -1.0\n",
       "48      -1.0\n",
       "8386    -1.0\n",
       "14647   -1.0\n",
       "Name: polarity, Length: 15880, dtype: float64"
      ]
     },
     "execution_count": 35,
     "metadata": {},
     "output_type": "execute_result"
    }
   ],
   "source": [
    "data['polarity'].sort_values(ascending=False)"
   ]
  },
  {
   "cell_type": "code",
   "execution_count": null,
   "id": "ce15a94f",
   "metadata": {
    "id": "ce15a94f",
    "outputId": "28888c44-59bd-4e21-d114-2da236998754"
   },
   "outputs": [
    {
     "data": {
      "text/plain": [
       "10781    Love my iPhone 4!  Would dream of upgrading to a 5 or 6. My iPhone has so much more memory than ...\n",
       "14969                                                                     Awesome phone my dad loves it!! :)\n",
       "5792                                                              This phone 16GB version or htc sensation? \n",
       "5793                                            [deleted post]\\nIphone 4s CMDA don't have slot for sim card.\n",
       "11028    Received my first with this product and I couldn't be happier. It has a ton of storage and easy ...\n",
       "Name: Reviews, dtype: object"
      ]
     },
     "execution_count": 36,
     "metadata": {},
     "output_type": "execute_result"
    }
   ],
   "source": [
    "data['Reviews'].iloc[[10781,14969,5792,5793,11028]]"
   ]
  }
 ],
 "metadata": {
  "colab": {
   "name": "MODEL BUILDING.ipynb",
   "provenance": []
  },
  "kernelspec": {
   "display_name": "Python 3",
   "language": "python",
   "name": "python3"
  },
  "language_info": {
   "codemirror_mode": {
    "name": "ipython",
    "version": 3
   },
   "file_extension": ".py",
   "mimetype": "text/x-python",
   "name": "python",
   "nbconvert_exporter": "python",
   "pygments_lexer": "ipython3",
   "version": "3.8.8"
  }
 },
 "nbformat": 4,
 "nbformat_minor": 5
}
